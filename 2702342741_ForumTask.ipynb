{
 "cells": [
  {
   "cell_type": "code",
   "execution_count": 11,
   "metadata": {},
   "outputs": [
    {
     "name": "stdout",
     "output_type": "stream",
     "text": [
      " Name: \t \t Lloyd \n",
      " Homework: \t [90.0, 97.0, 75.0, 92.0] \n",
      " Quizzes: \t [88.0, 40.0, 94.0] \n",
      " Tests: \t [75.0, 90.0]\n",
      "\n",
      " Name: \t \t Alice \n",
      " Homework: \t [100.0, 92.0, 98.0, 100.0] \n",
      " Quizzes: \t [82.0, 83.0, 91.0] \n",
      " Tests: \t [89.0, 97.0]\n",
      "\n",
      " Name: \t \t Tyler \n",
      " Homework: \t [0.0, 87.0, 75.0, 22.0] \n",
      " Quizzes: \t [0.0, 75.0, 78.0] \n",
      " Tests: \t [100.0, 100.0]\n",
      "\n",
      "Lloyd's grade in letter: B\n",
      "Class' average grade: 83.86666666666666\n",
      "Class' average grade in letter: B\n"
     ]
    }
   ],
   "source": [
    "#Forum Task 1\n",
    "lloyd = {\n",
    "\"name\": \"Lloyd\",\n",
    "\"homework\": [90.0,97.0,75.0,92.0], \n",
    "\"quizzes\": [88.0,40.0,94.0],\n",
    "\"tests\": [75.0,90.0]\n",
    "}\n",
    "alice = {\n",
    "\"name\": \"Alice\",\n",
    "\"homework\": [100.0, 92.0, 98.0, 100.0], \n",
    "\"quizzes\": [82.0, 83.0, 91.0],\n",
    "\"tests\": [89.0, 97.0]\n",
    "}\n",
    "tyler = {\n",
    "\"name\": \"Tyler\",\n",
    "\"homework\": [0.0, 87.0, 75.0, 22.0], \n",
    "\"quizzes\": [0.0, 75.0, 78.0],\n",
    "\"tests\": [100.0, 100.0]\n",
    "}\n",
    "\n",
    "murid = [lloyd, alice, tyler]\n",
    "\n",
    "for x in murid:\n",
    "    print(f' Name: \\t \\t {x[\"name\"]} \\n Homework: \\t {x[\"homework\"]} \\n Quizzes: \\t {x[\"quizzes\"]} \\n Tests: \\t {x[\"tests\"]}\\n')\n",
    "\n",
    "def average(numbers):\n",
    "    total= float(sum(numbers))\n",
    "    average= total / len(numbers)\n",
    "    return average\n",
    "\n",
    "def get_average(student):\n",
    "    homework= average(student[\"homework\"]) \n",
    "    quizzes= average(student[\"quizzes\"])\n",
    "    tests= average(student[\"tests\"])\n",
    "    homework_weight= homework * 0.1\n",
    "    quizzes_weight= quizzes * 0.3\n",
    "    tests_weight= tests * 0.6\n",
    "    avg= homework_weight + quizzes_weight + tests_weight \n",
    "    return avg\n",
    "\n",
    "def get_letter_grade(score):\n",
    "    if score >=90:\n",
    "        return \"A\"\n",
    "    elif score >=80:\n",
    "        return \"B\"\n",
    "    elif score >=70:\n",
    "        return \"C\"\n",
    "    elif score >=60:\n",
    "        return \"D\"\n",
    "    else:\n",
    "        return \"F\"\n",
    "print(\"Lloyd's grade in letter:\" , get_letter_grade(get_average(lloyd)))\n",
    "\n",
    "def get_class_average(students):\n",
    "    results = []\n",
    "    for y in students:\n",
    "        results.append (get_average(y))\n",
    "    return average(results)\n",
    "    \n",
    "print(\"Class' average grade:\" , get_class_average(murid))\n",
    "print(\"Class' average grade in letter:\" , get_letter_grade(get_class_average(murid)))"
   ]
  },
  {
   "cell_type": "code",
   "execution_count": 18,
   "metadata": {},
   "outputs": [
    {
     "name": "stdout",
     "output_type": "stream",
     "text": [
      "The course details are:\n",
      "Course Name: Programming concepts\n",
      "Instructor: Z. Beasley\n",
      "Class_times: MW 12:30pm - 1:45pm\n"
     ]
    }
   ],
   "source": [
    "#Forum Task 2\n",
    "course_numbers = (\"COP 2510\" , \"EGN 3000L\" , \"MAC 2281\", \"MUH 3016\" , \"PHY 2048\")\n",
    "\n",
    "course_names = {course_numbers[0]: \"Programming concepts\" , course_numbers[1]: \"Foundations of Engineering Lab\" , course_numbers[2]: \"Calculus I\" , course_numbers[3]: \"Survey of Jazz\" , course_numbers[4]: \"General Physics I\"}\n",
    "\n",
    "course_instructors = {course_numbers[0]: \"Z. Beasley\" , course_numbers[1]: \"J. Anderson\" , course_numbers[2]: \"A. Makaryus\" , course_numbers[3]: \"A. Wilkins\" , course_numbers[4]: \"G. Pradhan\"}\n",
    "\n",
    "course_classtime = {course_numbers[0]: \"MW 12:30pm - 1:45pm\" , course_numbers[1]: \"TR 11:00am - 12:15pm\" , course_numbers[2]: \"MW 9:30am - 10:45am\" , course_numbers[3]: \"online asynchronous\" , course_numbers[4]: \"TR 5:00pm - 6:15pm\"}\n",
    "\n",
    "course_num = input(\"Enter a course number:\")\n",
    "\n",
    "if course_num in course_numbers:\n",
    "    print(\"The course details are:\") \n",
    "    print(f\"Course Name: {course_names[course_num]}\")\n",
    "    print(f\"Instructor: {course_instructors[course_num]}\") \n",
    "    print(f\"Class_times: {course_classtime[course_num]}\")\n",
    "\n",
    "else:\n",
    "    print (f\"{course_num} is an invalid course number.\")\n"
   ]
  },
  {
   "cell_type": "code",
   "execution_count": 57,
   "metadata": {},
   "outputs": [
    {
     "name": "stdout",
     "output_type": "stream",
     "text": [
      "Input was invalid. Re-enter the sales for Monday\n",
      "Input was invalid. Re-enter the sales for Friday\n",
      "The total sales is: $10,082.00\n",
      "The minimum sale amount was: $560.00\n",
      "The maximum sale amount was: $3,010.00\n"
     ]
    }
   ],
   "source": [
    "#Forum Task 3\n",
    "days = (\"Sunday\", \"Monday\", \"Tuesday\", \"Wednesday\", \"Thursday\", \"Friday\", \"Saturday\")\n",
    "sales_data = []\n",
    "\n",
    "for x in days:\n",
    "    sales = float(input(f\"Enter the sales for {x}:\"))\n",
    "\n",
    "    while sales <=0:\n",
    "        print(f\"Input was invalid. Re-enter the sales for {x}\")\n",
    "        sales = float(input(f\"Enter the sales for {x}:\"))\n",
    "\n",
    "    else: \n",
    "        sales_data.append(sales)\n",
    "\n",
    "total= sum(sales_data)\n",
    "minimum= min(sales_data)\n",
    "maximum= max(sales_data)\n",
    "\n",
    "print(f\"The total sales is: ${total:,.2f}\")\n",
    "print(f\"The minimum sale amount was: ${minimum:,.2f}\")\n",
    "print(f\"The maximum sale amount was: ${maximum:,.2f}\")"
   ]
  },
  {
   "cell_type": "code",
   "execution_count": 13,
   "metadata": {},
   "outputs": [
    {
     "name": "stdout",
     "output_type": "stream",
     "text": [
      " .-...-...-....-...-...-...-...-...-...--...--...-...\n"
     ]
    }
   ],
   "source": [
    "#Forum Task 4\n",
    "morse_code = {\n",
    "    \" \": \" \",\n",
    "    \",\": \"--..--\",\n",
    "    \".\": \".-.-.-\",\n",
    "    \"?\": \"..--..\",\n",
    "    \"0\": \"-----\",\n",
    "    \"1\": \".----\",\n",
    "    \"2\": \"..---\",\n",
    "    \"3\": \"...--\",\n",
    "    \"4\": \"....-\",\n",
    "    \"5\": \".....\",\n",
    "    \"6\": \"-....\",\n",
    "    \"7\": \"--...\",\n",
    "    \"8\": \"---..\",\n",
    "    \"9\": \"----.\",\n",
    "    \"A\": \".-\",\n",
    "    \"B\": \"-...\",\n",
    "    \"C\": \"-.-.\",\n",
    "    \"D\": \"-..\",\n",
    "    \"E\": \".\",\n",
    "    \"F\": \"..-.\",\n",
    "    \"G\": \"--.\",\n",
    "    \"H\": \"....\",\n",
    "    \"I\": \"..\",\n",
    "    \"J\": \".---\",\n",
    "    \"K\": \"-.-\",\n",
    "    \"L\": \".-..\",\n",
    "    \"M\": \"--\",\n",
    "    \"N\": \"-.\",\n",
    "    \"O\": \"---\",\n",
    "    \"P\": \".---.\",\n",
    "    \"Q\": \"--.-\",\n",
    "    \"R\": \".-.\",\n",
    "    \"S\": \"...\",\n",
    "    \"T\": \"-\",\n",
    "    \"U\": \"..-\",\n",
    "    \"V\": \"...-\",\n",
    "    \"W\": \".--\",\n",
    "    \"X\": \"-..-\",\n",
    "    \"Y\": \"-.--\",\n",
    "    \"Z\": \"--..\"\n",
    "}\n",
    "\n",
    "string_to_be_converted = input(\"Enter the string to be converted to Morse Code:\")\n",
    "string_to_be_converted2 = string_to_be_converted.upper()\n",
    "\n",
    "morse_code_translation = \" \"\n",
    "\n",
    "for x in string_to_be_converted2:\n",
    "    for y, z in morse_code.items():\n",
    "        if x == y:\n",
    "            morse_code_translation += z\n",
    "\n",
    "print(morse_code_translation)"
   ]
  }
 ],
 "metadata": {
  "kernelspec": {
   "display_name": "Python 3",
   "language": "python",
   "name": "python3"
  },
  "language_info": {
   "codemirror_mode": {
    "name": "ipython",
    "version": 3
   },
   "file_extension": ".py",
   "mimetype": "text/x-python",
   "name": "python",
   "nbconvert_exporter": "python",
   "pygments_lexer": "ipython3",
   "version": "3.11.5"
  }
 },
 "nbformat": 4,
 "nbformat_minor": 2
}
